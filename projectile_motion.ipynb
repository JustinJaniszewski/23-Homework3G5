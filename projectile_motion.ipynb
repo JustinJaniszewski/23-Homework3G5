{
  "nbformat": 4,
  "nbformat_minor": 0,
  "metadata": {
    "colab": {
      "provenance": [],
      "authorship_tag": "ABX9TyO7AhqM77/WNKXVUppBC75L",
      "include_colab_link": true
    },
    "kernelspec": {
      "name": "python3",
      "display_name": "Python 3"
    },
    "language_info": {
      "name": "python"
    }
  },
  "cells": [
    {
      "cell_type": "markdown",
      "metadata": {
        "id": "view-in-github",
        "colab_type": "text"
      },
      "source": [
        "<a href=\"https://colab.research.google.com/github/AhmedCode99/projectile/blob/main/projectile_motion.ipynb\" target=\"_parent\"><img src=\"https://colab.research.google.com/assets/colab-badge.svg\" alt=\"Open In Colab\"/></a>"
      ]
    },
    {
      "cell_type": "code",
      "execution_count": null,
      "metadata": {
        "id": "YyZNj2vf2fK5"
      },
      "outputs": [],
      "source": [
        "import math\n",
        "\n",
        "v_initial = 700 # meters per second\n",
        "angle = math.radians(45)\n",
        "vx = v_initial*math.cos(angle)\n",
        "vy = v_initial*math.sin(angle)\n",
        "\n",
        "time_step = 0.5\n",
        "t=[0]\n",
        "\n",
        "x_start = 0\n",
        "y_start = 0\n",
        "x=[x_start]\n",
        "y=[y_start]\n",
        "\n",
        "const = 4*(10^-5) # 1 / meter"
      ]
    }
  ]
}