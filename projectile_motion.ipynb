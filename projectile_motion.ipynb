{
  "nbformat": 4,
  "nbformat_minor": 0,
  "metadata": {
    "colab": {
      "provenance": [],
      "authorship_tag": "ABX9TyNaVuTcLubSigUdkPVa+NQl",
      "include_colab_link": true
    },
    "kernelspec": {
      "name": "python3",
      "display_name": "Python 3"
    },
    "language_info": {
      "name": "python"
    }
  },
  "cells": [
    {
      "cell_type": "markdown",
      "metadata": {
        "id": "view-in-github",
        "colab_type": "text"
      },
      "source": [
        "<a href=\"https://colab.research.google.com/github/AhmedCode99/projectile/blob/main/projectile_motion.ipynb\" target=\"_parent\"><img src=\"https://colab.research.google.com/assets/colab-badge.svg\" alt=\"Open In Colab\"/></a>"
      ]
    },
    {
      "cell_type": "code",
      "execution_count": 1,
      "metadata": {
        "id": "YyZNj2vf2fK5"
      },
      "outputs": [],
      "source": [
        "import math\n",
        "import matplotlib.pyplot as plt\n",
        "\n",
        "\n",
        "g = 9.81 # m / s^2\n",
        "\n",
        "v_initial = 700 # meters per second\n",
        "angle = math.radians(45)\n",
        "vx = v_initial*math.cos(angle)\n",
        "vy = v_initial*math.sin(angle)\n",
        "\n",
        "dt = 0.5\n",
        "t=[0]\n",
        "\n",
        "x_start = 0\n",
        "y_start = 0\n",
        "x=[x_start]\n",
        "y=[y_start]\n",
        "\n",
        "const = 4*(10**-5) # 1 / meter\n",
        "\n",
        "i = 0\n",
        "\n",
        "while y[-1]>=0:\n",
        "  x.append(x[i]+vx*dt)\n",
        "  y.append(y[i]+vy*dt)\n",
        "  t.append(t[i]+dt)\n",
        "  vx=vx-const*dt*vx*math.sqrt((vx**2)+(vy**2))\n",
        "  vy=vy-dt*(g+const*vy*math.sqrt((vx**2)+(vy**2)))\n",
        "  i=i+1"
      ]
    },
    {
      "cell_type": "code",
      "source": [],
      "metadata": {
        "id": "B9Po9NWmWso-"
      },
      "execution_count": null,
      "outputs": []
    }
  ]
}